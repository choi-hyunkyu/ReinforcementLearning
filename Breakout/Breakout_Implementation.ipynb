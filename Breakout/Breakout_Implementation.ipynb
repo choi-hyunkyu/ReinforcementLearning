{
 "cells": [
  {
   "cell_type": "code",
   "execution_count": 1,
   "metadata": {},
   "outputs": [
    {
     "name": "stdout",
     "output_type": "stream",
     "text": [
      "Looking in links: https://github.com/Kojoley/atari-py/releases\n",
      "Requirement already satisfied: atari_py in c:\\users\\choih\\appdata\\local\\programs\\python\\python38\\lib\\site-packages (1.2.2)\n",
      "Requirement already satisfied: numpy in c:\\users\\choih\\appdata\\local\\programs\\python\\python38\\lib\\site-packages (from atari_py) (1.18.5)\n",
      "Requirement already satisfied: atari-py in c:\\users\\choih\\appdata\\local\\programs\\python\\python38\\lib\\site-packages (1.2.2)\n",
      "Requirement already satisfied: numpy in c:\\users\\choih\\appdata\\local\\programs\\python\\python38\\lib\\site-packages (from atari-py) (1.18.5)\n"
     ]
    },
    {
     "name": "stderr",
     "output_type": "stream",
     "text": [
      "ERROR: Could not find a version that satisfies the requirement opence-python (from versions: none)\n",
      "ERROR: No matching distribution found for opence-python\n"
     ]
    }
   ],
   "source": [
    "!pip install --no-index -f https://github.com/Kojoley/atari-py/releases atari_py\n",
    "!pip install atari-py\n",
    "!pip install opence-python"
   ]
  },
  {
   "cell_type": "code",
   "execution_count": 2,
   "metadata": {},
   "outputs": [],
   "source": [
    "import numpy as np\n",
    "import matplotlib.pyplot as plt\n",
    "import gym\n",
    "\n",
    "%matplotlib inline"
   ]
  },
  {
   "cell_type": "code",
   "execution_count": 3,
   "metadata": {},
   "outputs": [],
   "source": [
    "# task name\n",
    "ENV = 'Breakout-v0'\n",
    "\n",
    "# environment setting\n",
    "env = gym.make(ENV)"
   ]
  },
  {
   "cell_type": "code",
   "execution_count": 4,
   "metadata": {},
   "outputs": [
    {
     "name": "stdout",
     "output_type": "stream",
     "text": [
      "Box(0, 255, (210, 160, 3), uint8)\n",
      "Discrete(4)\n",
      "['NOOP', 'FIRE', 'RIGHT', 'LEFT']\n"
     ]
    }
   ],
   "source": [
    "# task에서 관측할 수 있는 상태와 선택 가능한 행동 파악\n",
    "\n",
    "# 상태\n",
    "print(env.observation_space)\n",
    "\n",
    "# 행동\n",
    "print(env.action_space)\n",
    "\n",
    "# ['NOOP', 'FIRE', 'RIGHT', 'LEFT'] : [아무 것도 하지 않음, 공 발사, 오른쪽 이동, 왼쪽 이동]\n",
    "print(env.unwrapped.get_action_meanings())"
   ]
  },
  {
   "cell_type": "code",
   "execution_count": 5,
   "metadata": {},
   "outputs": [
    {
     "data": {
      "text/plain": [
       "<matplotlib.image.AxesImage at 0x1690d615df0>"
      ]
     },
     "execution_count": 5,
     "metadata": {},
     "output_type": "execute_result"
    },
    {
     "data": {
      "image/png": "[encoded data removed]",
      "text/plain": [
       "<Figure size 432x288 with 1 Axes>"
      ]
     },
     "metadata": {
      "needs_background": "light"
     },
     "output_type": "display_data"
    }
   ],
   "source": [
    "# 초기 상태 이미지 출력\n",
    "\n",
    "# environment reset\n",
    "observation = env.reset()\n",
    "\n",
    "# image show\n",
    "plt.imshow(observation)"
   ]
  },
  {
   "cell_type": "code",
   "execution_count": 6,
   "metadata": {},
   "outputs": [],
   "source": [
    "# 애니메이션을 만드는 함수\n",
    "from JSAnimation.IPython_display import display_animation\n",
    "from matplotlib import animation\n",
    "from IPython.display import display\n",
    "\n",
    "\n",
    "def display_frames_as_gif(frames):\n",
    "    \"\"\"\n",
    "    Displays a list of frames as a gif, with controls\n",
    "    \"\"\"\n",
    "    plt.figure(figsize=(frames[0].shape[1]/72.0, frames[0].shape[0]/72.0),\n",
    "               dpi=72)\n",
    "    patch = plt.imshow(frames[0])\n",
    "    plt.axis('off')\n",
    "\n",
    "    def animate(i):\n",
    "        patch.set_data(frames[i])\n",
    "\n",
    "    anim = animation.FuncAnimation(plt.gcf(), animate, frames=len(frames),\n",
    "                                   interval=50)\n",
    "\n",
    "    anim.save('breakout_implementation.gif')  # 애니메이션을 저장하는 부분"
   ]
  },
  {
   "cell_type": "code",
   "execution_count": 7,
   "metadata": {},
   "outputs": [],
   "source": [
    "# 무작위 플레이\n",
    "frames = []\n",
    "observation = env.reset()\n",
    "\n",
    "for step in range(1000):\n",
    "    \n",
    "    # 이미지 저장\n",
    "    frames.append(observation)\n",
    "    \n",
    "    # 행동 선택\n",
    "    action = np.random.randint(0, 4)\n",
    "    \n",
    "    # 행동 실행\n",
    "    observation_next, reward, done, info = env.step(action)\n",
    "    \n",
    "    # 상태 업데이트\n",
    "    observation = observation_next\n",
    "    \n",
    "    if done:\n",
    "        break"
   ]
  },
  {
   "cell_type": "code",
   "execution_count": 8,
   "metadata": {},
   "outputs": [
    {
     "name": "stderr",
     "output_type": "stream",
     "text": [
      "MovieWriter ffmpeg unavailable; using Pillow instead.\n"
     ]
    },
    {
     "data": {
      "image/png": "[encoded data removed]",
      "text/plain": [
       "<Figure size 160x210 with 1 Axes>"
      ]
     },
     "metadata": {
      "needs_background": "light"
     },
     "output_type": "display_data"
    }
   ],
   "source": [
    "display_frames_as_gif(frames)"
   ]
  },
  {
   "cell_type": "code",
   "execution_count": null,
   "metadata": {},
   "outputs": [],
   "source": []
  }
 ],
 "metadata": {
  "kernelspec": {
   "display_name": "Python 3",
   "language": "python",
   "name": "python3"
  },
  "language_info": {
   "codemirror_mode": {
    "name": "ipython",
    "version": 3
   },
   "file_extension": ".py",
   "mimetype": "text/x-python",
   "name": "python",
   "nbconvert_exporter": "python",
   "pygments_lexer": "ipython3",
   "version": "3.8.5"
  }
 },
 "nbformat": 4,
 "nbformat_minor": 4
}
